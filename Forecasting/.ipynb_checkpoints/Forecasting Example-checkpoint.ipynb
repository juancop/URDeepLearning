{
 "cells": [
  {
   "cell_type": "markdown",
   "id": "radio-socket",
   "metadata": {},
   "source": [
    "# Pronósticos usando Deep Learning\n",
    "\n",
    "Contexto bla bla bla\n",
    "\n",
    "\n",
    "The UCI Electricity Load Diagrams Dataset, containing the\n",
    "electricity consumption of 370 customers – aggregated on an hourly level as\n",
    "in [32]. In accordance with [9], we use the past week (i.e. 168 hours) to\n",
    "forecast over the next 24 hours."
   ]
  },
  {
   "cell_type": "code",
   "execution_count": 1,
   "id": "regular-aluminum",
   "metadata": {},
   "outputs": [],
   "source": [
    "import pandas as pd\n",
    "import numpy as np\n",
    "import seaborn as sns\n",
    "import os\n",
    "import matplotlib.pyplot as plt\n",
    "import tensorflow as tf\n",
    "from tqdm import tqdm"
   ]
  },
  {
   "cell_type": "code",
   "execution_count": 2,
   "id": "introductory-democrat",
   "metadata": {},
   "outputs": [],
   "source": [
    "#df.sort_values(by = 'date')[df.hour == 0].groupby('date').head(1).date.values.tolist()"
   ]
  },
  {
   "cell_type": "code",
   "execution_count": 3,
   "id": "scenic-arthritis",
   "metadata": {},
   "outputs": [
    {
     "data": {
      "text/plain": [
       "'2.3.1'"
      ]
     },
     "execution_count": 3,
     "metadata": {},
     "output_type": "execute_result"
    }
   ],
   "source": [
    "tf.__version__"
   ]
  },
  {
   "cell_type": "markdown",
   "id": "detected-scottish",
   "metadata": {},
   "source": [
    "## Carga de Información"
   ]
  },
  {
   "cell_type": "code",
   "execution_count": 4,
   "id": "contained-facial",
   "metadata": {},
   "outputs": [],
   "source": [
    "#df = df[df.categorical_id == 'MT_353']\n",
    "df = pd.read_csv('data/electricity.csv')"
   ]
  },
  {
   "cell_type": "code",
   "execution_count": 5,
   "id": "weird-submission",
   "metadata": {},
   "outputs": [],
   "source": [
    "df = df.groupby('categorical_id').tail(24*7*4*2)"
   ]
  },
  {
   "cell_type": "code",
   "execution_count": 6,
   "id": "extra-bishop",
   "metadata": {},
   "outputs": [],
   "source": [
    "df = df.sort_values(by = ['categorical_id', 'date'])"
   ]
  },
  {
   "cell_type": "code",
   "execution_count": 7,
   "id": "numeric-candy",
   "metadata": {},
   "outputs": [],
   "source": [
    "#df['lag_usage'] = df.groupby('categorical_id').power_usage.shift(24)"
   ]
  },
  {
   "cell_type": "code",
   "execution_count": 8,
   "id": "placed-elimination",
   "metadata": {},
   "outputs": [],
   "source": [
    "#df['D_usage'] = df['power_usage'] - df['lag_usage']"
   ]
  },
  {
   "cell_type": "code",
   "execution_count": 9,
   "id": "applicable-capture",
   "metadata": {},
   "outputs": [],
   "source": [
    "#df[\"mean_usage\"] = df.groupby(['categorical_id', 'hour']).power_usage.transform(np.mean)\n",
    "#df['deseasonalized_usage'] = df['power_usage']/df['mean_usage']"
   ]
  },
  {
   "cell_type": "code",
   "execution_count": 10,
   "id": "minimal-clearing",
   "metadata": {},
   "outputs": [
    {
     "data": {
      "text/html": [
       "<div>\n",
       "<style scoped>\n",
       "    .dataframe tbody tr th:only-of-type {\n",
       "        vertical-align: middle;\n",
       "    }\n",
       "\n",
       "    .dataframe tbody tr th {\n",
       "        vertical-align: top;\n",
       "    }\n",
       "\n",
       "    .dataframe thead th {\n",
       "        text-align: right;\n",
       "    }\n",
       "</style>\n",
       "<table border=\"1\" class=\"dataframe\">\n",
       "  <thead>\n",
       "    <tr style=\"text-align: right;\">\n",
       "      <th></th>\n",
       "      <th>power_usage</th>\n",
       "      <th>t</th>\n",
       "      <th>days_from_start</th>\n",
       "      <th>categorical_id</th>\n",
       "      <th>date</th>\n",
       "      <th>id</th>\n",
       "      <th>hour</th>\n",
       "      <th>day</th>\n",
       "      <th>day_of_week</th>\n",
       "      <th>month</th>\n",
       "      <th>hours_from_start</th>\n",
       "      <th>categorical_day_of_week</th>\n",
       "      <th>categorical_hour</th>\n",
       "      <th>lag_usage</th>\n",
       "      <th>D_usage</th>\n",
       "      <th>mean_usage</th>\n",
       "      <th>deseasonalized_usage</th>\n",
       "    </tr>\n",
       "  </thead>\n",
       "  <tbody>\n",
       "    <tr>\n",
       "      <th>4656</th>\n",
       "      <td>1.586294</td>\n",
       "      <td>30960.0</td>\n",
       "      <td>1290</td>\n",
       "      <td>MT_001</td>\n",
       "      <td>2014-07-14 00:00:00</td>\n",
       "      <td>MT_001</td>\n",
       "      <td>0</td>\n",
       "      <td>14</td>\n",
       "      <td>0</td>\n",
       "      <td>7</td>\n",
       "      <td>30960.0</td>\n",
       "      <td>0</td>\n",
       "      <td>0</td>\n",
       "      <td>NaN</td>\n",
       "      <td>NaN</td>\n",
       "      <td>10.781137</td>\n",
       "      <td>0.147136</td>\n",
       "    </tr>\n",
       "    <tr>\n",
       "      <th>4657</th>\n",
       "      <td>1.269036</td>\n",
       "      <td>30961.0</td>\n",
       "      <td>1290</td>\n",
       "      <td>MT_001</td>\n",
       "      <td>2014-07-14 01:00:00</td>\n",
       "      <td>MT_001</td>\n",
       "      <td>1</td>\n",
       "      <td>14</td>\n",
       "      <td>0</td>\n",
       "      <td>7</td>\n",
       "      <td>30961.0</td>\n",
       "      <td>0</td>\n",
       "      <td>1</td>\n",
       "      <td>NaN</td>\n",
       "      <td>NaN</td>\n",
       "      <td>11.143718</td>\n",
       "      <td>0.113879</td>\n",
       "    </tr>\n",
       "    <tr>\n",
       "      <th>4658</th>\n",
       "      <td>1.269036</td>\n",
       "      <td>30962.0</td>\n",
       "      <td>1290</td>\n",
       "      <td>MT_001</td>\n",
       "      <td>2014-07-14 02:00:00</td>\n",
       "      <td>MT_001</td>\n",
       "      <td>2</td>\n",
       "      <td>14</td>\n",
       "      <td>0</td>\n",
       "      <td>7</td>\n",
       "      <td>30962.0</td>\n",
       "      <td>0</td>\n",
       "      <td>2</td>\n",
       "      <td>NaN</td>\n",
       "      <td>NaN</td>\n",
       "      <td>11.206037</td>\n",
       "      <td>0.113246</td>\n",
       "    </tr>\n",
       "    <tr>\n",
       "      <th>4659</th>\n",
       "      <td>1.269036</td>\n",
       "      <td>30963.0</td>\n",
       "      <td>1290</td>\n",
       "      <td>MT_001</td>\n",
       "      <td>2014-07-14 03:00:00</td>\n",
       "      <td>MT_001</td>\n",
       "      <td>3</td>\n",
       "      <td>14</td>\n",
       "      <td>0</td>\n",
       "      <td>7</td>\n",
       "      <td>30963.0</td>\n",
       "      <td>0</td>\n",
       "      <td>3</td>\n",
       "      <td>NaN</td>\n",
       "      <td>NaN</td>\n",
       "      <td>11.217368</td>\n",
       "      <td>0.113131</td>\n",
       "    </tr>\n",
       "    <tr>\n",
       "      <th>4660</th>\n",
       "      <td>1.586294</td>\n",
       "      <td>30964.0</td>\n",
       "      <td>1290</td>\n",
       "      <td>MT_001</td>\n",
       "      <td>2014-07-14 04:00:00</td>\n",
       "      <td>MT_001</td>\n",
       "      <td>4</td>\n",
       "      <td>14</td>\n",
       "      <td>0</td>\n",
       "      <td>7</td>\n",
       "      <td>30964.0</td>\n",
       "      <td>0</td>\n",
       "      <td>4</td>\n",
       "      <td>NaN</td>\n",
       "      <td>NaN</td>\n",
       "      <td>11.228698</td>\n",
       "      <td>0.141271</td>\n",
       "    </tr>\n",
       "  </tbody>\n",
       "</table>\n",
       "</div>"
      ],
      "text/plain": [
       "      power_usage        t  days_from_start categorical_id  \\\n",
       "4656     1.586294  30960.0             1290         MT_001   \n",
       "4657     1.269036  30961.0             1290         MT_001   \n",
       "4658     1.269036  30962.0             1290         MT_001   \n",
       "4659     1.269036  30963.0             1290         MT_001   \n",
       "4660     1.586294  30964.0             1290         MT_001   \n",
       "\n",
       "                     date      id  hour  day  day_of_week  month  \\\n",
       "4656  2014-07-14 00:00:00  MT_001     0   14            0      7   \n",
       "4657  2014-07-14 01:00:00  MT_001     1   14            0      7   \n",
       "4658  2014-07-14 02:00:00  MT_001     2   14            0      7   \n",
       "4659  2014-07-14 03:00:00  MT_001     3   14            0      7   \n",
       "4660  2014-07-14 04:00:00  MT_001     4   14            0      7   \n",
       "\n",
       "      hours_from_start  categorical_day_of_week  categorical_hour  lag_usage  \\\n",
       "4656           30960.0                        0                 0        NaN   \n",
       "4657           30961.0                        0                 1        NaN   \n",
       "4658           30962.0                        0                 2        NaN   \n",
       "4659           30963.0                        0                 3        NaN   \n",
       "4660           30964.0                        0                 4        NaN   \n",
       "\n",
       "      D_usage  mean_usage  deseasonalized_usage  \n",
       "4656      NaN   10.781137              0.147136  \n",
       "4657      NaN   11.143718              0.113879  \n",
       "4658      NaN   11.206037              0.113246  \n",
       "4659      NaN   11.217368              0.113131  \n",
       "4660      NaN   11.228698              0.141271  "
      ]
     },
     "execution_count": 10,
     "metadata": {},
     "output_type": "execute_result"
    }
   ],
   "source": [
    "df.head()"
   ]
  },
  {
   "cell_type": "code",
   "execution_count": 11,
   "id": "specified-forum",
   "metadata": {},
   "outputs": [],
   "source": [
    "df = df[df.date > '2014-05-05']"
   ]
  },
  {
   "cell_type": "code",
   "execution_count": 67,
   "id": "compact-legislature",
   "metadata": {},
   "outputs": [
    {
     "data": {
      "text/plain": [
       "72"
      ]
     },
     "execution_count": 67,
     "metadata": {},
     "output_type": "execute_result"
    }
   ],
   "source": [
    "48+24"
   ]
  },
  {
   "cell_type": "code",
   "execution_count": 12,
   "id": "necessary-cutting",
   "metadata": {},
   "outputs": [
    {
     "data": {
      "text/plain": [
       "count    495840.000000\n",
       "mean        752.696143\n",
       "std        5142.230794\n",
       "min           0.000000\n",
       "25%          53.471730\n",
       "50%         129.042758\n",
       "75%         340.840841\n",
       "max      168100.000000\n",
       "Name: power_usage, dtype: float64"
      ]
     },
     "execution_count": 12,
     "metadata": {},
     "output_type": "execute_result"
    }
   ],
   "source": [
    "df.power_usage.describe()"
   ]
  },
  {
   "cell_type": "code",
   "execution_count": 13,
   "id": "fourth-indonesian",
   "metadata": {},
   "outputs": [],
   "source": [
    "#unique_dates[:3000]"
   ]
  },
  {
   "cell_type": "code",
   "execution_count": 68,
   "id": "overhead-publication",
   "metadata": {},
   "outputs": [],
   "source": [
    "def plot_id_info(df, customer_id, variable, n_history = 72, target_length = 24):\n",
    "    \"\"\"\n",
    "    Plots a customer's information for the last week + 24 hours.\n",
    "    \"\"\"\n",
    "    plt.figure(figsize =(10, 5))\n",
    "    customer_df = df[df.categorical_id == customer_id].copy().sort_values(by='date').tail(n_history)\n",
    "    customer_df['date'] = pd.to_datetime(customer_df['date'])\n",
    "    \n",
    "    plt.plot(customer_df['date'].head(n_history - target_length), customer_df[variable].head(n_history - target_length), label = 'Input', color = 'black')\n",
    "    plt.plot(customer_df['date'].tail(target_length), customer_df[variable].tail(target_length), label = 'Target', color = 'red')\n",
    "    plt.legend()"
   ]
  },
  {
   "cell_type": "code",
   "execution_count": 69,
   "id": "undefined-tiger",
   "metadata": {},
   "outputs": [
    {
     "data": {
      "image/png": "[encoded data removed]",
      "text/plain": [
       "<Figure size 720x360 with 1 Axes>"
      ]
     },
     "metadata": {
      "needs_background": "light"
     },
     "output_type": "display_data"
    }
   ],
   "source": [
    "plot_id_info(df, 'MT_353', 'power_usage')"
   ]
  },
  {
   "cell_type": "code",
   "execution_count": 70,
   "id": "proprietary-alias",
   "metadata": {},
   "outputs": [
    {
     "data": {
      "image/png": "[encoded data removed]",
      "text/plain": [
       "<Figure size 720x360 with 1 Axes>"
      ]
     },
     "metadata": {
      "needs_background": "light"
     },
     "output_type": "display_data"
    }
   ],
   "source": [
    "plot_id_info(df, 'MT_178', 'power_usage')"
   ]
  },
  {
   "cell_type": "markdown",
   "id": "german-society",
   "metadata": {},
   "source": [
    "# Datos para Entrenamiento\n",
    "\n",
    "Este es un problema de pronóstico de múltiples series con un horizonte \"múltiple\", por lo que este problema se puede atacar de varias formas: \n",
    "1. Pronosticar directamente las 24 horas\n",
    "2. Pronosticar una hora a la vez e ir moviendo la información\n",
    "3. Pronosticar una hora a la vez utilizando autoregresivamente las predicciones\n",
    "\n",
    "Vamos a ir por el primero. \n",
    "\n",
    "En TensorFlow tenemos formas de entrenar modelos para series de tiempo del mismo individuo, pero en este caso tenemos 370 individuos difernetes.\n",
    "\n"
   ]
  },
  {
   "cell_type": "markdown",
   "id": "mobile-gossip",
   "metadata": {},
   "source": [
    "## Aproximación por Ventanas\n",
    "\n",
    "[Gráfico de TensorFlow para el pronóstico usando Ventanas]"
   ]
  },
  {
   "cell_type": "code",
   "execution_count": 24,
   "id": "optimum-setup",
   "metadata": {},
   "outputs": [],
   "source": [
    "class processElectricityDataFrame:\n",
    "    \"\"\"\n",
    "    Procesa el DataFrame para generar un data set de ventanas.\n",
    "    \"\"\"\n",
    "    \n",
    "    def __init__(self, train_df, val_df, test_df, index_variable, target_variable,\n",
    "                input_window, output_window):\n",
    "        self.train_df = train_df\n",
    "        self.val_df = val_df\n",
    "        self.test_df = test_df   \n",
    "        \n",
    "        self.label_name = target_variable\n",
    "        self.input_window = input_window\n",
    "        self.output_window = output_window\n",
    "        self.index_variable = index_variable\n",
    "        \n",
    "        \n",
    "        self.model_columns = None # Variables de la ventana\n",
    "            \n",
    "    \n",
    "    def create_npy_dataset(self, df, folder, name, columns, input_window, output_window, label_name):\n",
    "        \"\"\"\n",
    "            df: DataFrame a utilizar\n",
    "            folder: Folder para almacenar el .npy\n",
    "            columns: Lista de las columnas que se utilizarán al final\n",
    "            name: Nombre para el archivo (train, val, test)\n",
    "            input_window: Tamaño de la ventana de entrada (12)\n",
    "            output_window: Tramaño de la ventana de salida (12)\n",
    "            label_name: Nombre de la variable objetivo\n",
    "        \n",
    "        \"\"\"\n",
    "        file_input = os.path.join(folder, f'input_{name}.npy')\n",
    "        file_output = os.path.join(folder, f'output_{name}.npy')\n",
    "\n",
    "        unique_id_names = df[self.index_variable].value_counts().index.values\n",
    "        npy_input = None\n",
    "        npy_output = None\n",
    "\n",
    "        label_index = columns.index(label_name)\n",
    "        input_columns = columns.copy()\n",
    "            \n",
    "        window_size = input_window + output_window\n",
    "        \n",
    "        print(f'Started .npy creation with name: {name}')\n",
    "        for id_name in tqdm(unique_id_names):\n",
    "            \n",
    "            customer_df = df[df[self.index_variable] == id_name].sort_values(by = 'date').copy()\n",
    "            output_tmp_df = customer_df[columns].values\n",
    "            input_tmp_df = customer_df[input_columns].values\n",
    "            n_windows = len(output_tmp_df) - window_size + 1\n",
    "            \n",
    "            input_array = np.expand_dims(np.arange(self.input_window), 0) +  np.expand_dims(np.arange(n_windows, step = 24), 0).T\n",
    "            output_array = np.expand_dims(np.arange(self.output_window), 0) + self.input_window +  np.expand_dims(np.arange(n_windows, step = 24), 0).T\n",
    "            \n",
    "            \n",
    "            inputs = input_tmp_df[input_array].astype(np.float32)\n",
    "            labels = output_tmp_df[output_array, label_index].astype(np.float32)\n",
    "            \n",
    "            if npy_input is None:\n",
    "                \n",
    "                npy_input = inputs\n",
    "                npy_output = labels\n",
    "            else:\n",
    "                \n",
    "                npy_input = np.append(npy_input, inputs, axis = 0)\n",
    "                npy_output = np.append(npy_output, labels, axis = 0)\n",
    "                \n",
    "                random_index = np.random.choice(npy_input.shape[0], npy_input.shape[0], replace=False)\n",
    "                \n",
    "                npy_input = npy_input[random_index, :, :]\n",
    "                npy_output = npy_output[random_index, :]\n",
    "                \n",
    "        \n",
    "\n",
    "        with open(file_input, 'wb') as f:\n",
    "            np.save(f, npy_input)\n",
    "\n",
    "        with open(file_output, 'wb') as f:\n",
    "            np.save(f, npy_output)\n",
    "\n",
    "        print('Completed .npy creation.')        \n",
    "\n",
    "        \n",
    "    def preprocess_fn(self, df, model_type):      \n",
    "        if model_type == 'raw_inf':\n",
    "            df[self.label_name] = np.log(df[self.label_name] + 1)\n",
    "            self.model_columns = [self.label_name]#, 'hour', 'day_of_week', 'month']\n",
    "            return df\n",
    "        \n",
    "\n",
    "        \n",
    "    def create_all_datasets(self, folder_name = 'data', model_type = 'raw_inf'):\n",
    "        train_df = self.preprocess_fn(self.train_df, model_type)    \n",
    "         \n",
    "        self.create_npy_dataset(df = train_df, folder = folder_name, name = 'train', columns =  self.model_columns,\n",
    "                               input_window = self.input_window, output_window = self.output_window, label_name = self.label_name)\n",
    "        \n",
    "        val_df = self.preprocess_fn(self.val_df, model_type)    \n",
    "         \n",
    "        self.create_npy_dataset(df = val_df, folder = folder_name, name = 'val', columns =  self.model_columns,\n",
    "                               input_window = self.input_window, output_window = self.output_window, label_name = self.label_name)\n",
    "        \n",
    "        \n",
    "        test_df = self.preprocess_fn(self.test_df, model_type)    \n",
    "         \n",
    "        self.create_npy_dataset(df = test_df, folder = folder_name, name = 'test', columns =  self.model_columns,\n",
    "                               input_window = self.input_window, output_window = self.output_window, label_name = self.label_name)"
   ]
  },
  {
   "cell_type": "code",
   "execution_count": 25,
   "id": "editorial-minister",
   "metadata": {},
   "outputs": [],
   "source": [
    "test_df = df[df.date >= '2014-08-31']\n",
    "val_df = df[(df.date >= '2014-08-24') & (df.date < '2014-08-31')]\n",
    "train_df = df[df.date < '2014-08-24']\n"
   ]
  },
  {
   "cell_type": "code",
   "execution_count": 26,
   "id": "another-mount",
   "metadata": {},
   "outputs": [
    {
     "data": {
      "text/plain": [
       "MT_244    984\n",
       "MT_211    984\n",
       "MT_204    984\n",
       "MT_074    984\n",
       "MT_038    984\n",
       "         ... \n",
       "MT_157    984\n",
       "MT_004    984\n",
       "MT_361    984\n",
       "MT_021    984\n",
       "MT_178    888\n",
       "Name: categorical_id, Length: 369, dtype: int64"
      ]
     },
     "execution_count": 26,
     "metadata": {},
     "output_type": "execute_result"
    }
   ],
   "source": [
    "train_df.categorical_id.value_counts()"
   ]
  },
  {
   "cell_type": "code",
   "execution_count": 27,
   "id": "virgin-choir",
   "metadata": {},
   "outputs": [],
   "source": [
    "df_process = processElectricityDataFrame(train_df, \n",
    "                                         val_df, \n",
    "                                         test_df, \n",
    "                                         index_variable = 'categorical_id',\n",
    "                                         target_variable = 'power_usage',\n",
    "                                         input_window = 48,\n",
    "                                         output_window = 24)"
   ]
  },
  {
   "cell_type": "code",
   "execution_count": 28,
   "id": "flying-scroll",
   "metadata": {},
   "outputs": [
    {
     "name": "stderr",
     "output_type": "stream",
     "text": [
      "<ipython-input-24-868a10b44aff>:86: SettingWithCopyWarning: \n",
      "A value is trying to be set on a copy of a slice from a DataFrame.\n",
      "Try using .loc[row_indexer,col_indexer] = value instead\n",
      "\n",
      "See the caveats in the documentation: https://pandas.pydata.org/pandas-docs/stable/user_guide/indexing.html#returning-a-view-versus-a-copy\n",
      "  df[self.label_name] = np.log(df[self.label_name] + 1)\n"
     ]
    },
    {
     "name": "stdout",
     "output_type": "stream",
     "text": [
      "Started .npy creation with name: train\n"
     ]
    },
    {
     "name": "stderr",
     "output_type": "stream",
     "text": [
      "100%|██████████| 369/369 [00:08<00:00, 44.88it/s]\n"
     ]
    },
    {
     "name": "stdout",
     "output_type": "stream",
     "text": [
      "Completed .npy creation.\n",
      "Started .npy creation with name: val\n"
     ]
    },
    {
     "name": "stderr",
     "output_type": "stream",
     "text": [
      "100%|██████████| 369/369 [00:01<00:00, 200.93it/s]\n"
     ]
    },
    {
     "name": "stdout",
     "output_type": "stream",
     "text": [
      "Completed .npy creation.\n",
      "Started .npy creation with name: test\n"
     ]
    },
    {
     "name": "stderr",
     "output_type": "stream",
     "text": [
      "100%|██████████| 369/369 [00:02<00:00, 166.31it/s]"
     ]
    },
    {
     "name": "stdout",
     "output_type": "stream",
     "text": [
      "Completed .npy creation.\n"
     ]
    },
    {
     "name": "stderr",
     "output_type": "stream",
     "text": [
      "\n"
     ]
    }
   ],
   "source": [
    "df_process.create_all_datasets(folder_name = 'data', model_type = 'raw_inf')"
   ]
  },
  {
   "cell_type": "code",
   "execution_count": 29,
   "id": "complex-glory",
   "metadata": {},
   "outputs": [],
   "source": [
    "train_input_example = np.load('data/input_train.npy')\n",
    "train_output_example = np.load('data/output_train.npy')"
   ]
  },
  {
   "cell_type": "code",
   "execution_count": 30,
   "id": "great-headset",
   "metadata": {},
   "outputs": [
    {
     "data": {
      "text/plain": [
       "(14387, 48, 1)"
      ]
     },
     "execution_count": 30,
     "metadata": {},
     "output_type": "execute_result"
    }
   ],
   "source": [
    "train_input_example.shape"
   ]
  },
  {
   "cell_type": "code",
   "execution_count": 31,
   "id": "exposed-founder",
   "metadata": {},
   "outputs": [
    {
     "data": {
      "text/plain": [
       "(14387, 24)"
      ]
     },
     "execution_count": 31,
     "metadata": {},
     "output_type": "execute_result"
    }
   ],
   "source": [
    "train_output_example.shape"
   ]
  },
  {
   "cell_type": "code",
   "execution_count": 85,
   "id": "generic-provider",
   "metadata": {},
   "outputs": [],
   "source": [
    "#df[df.categorical_id == 'MT_178'][['date', 'lag_usage']].head(25)"
   ]
  },
  {
   "cell_type": "code",
   "execution_count": 86,
   "id": "color-treasure",
   "metadata": {},
   "outputs": [],
   "source": [
    "#train_input_example[0, :, :]"
   ]
  },
  {
   "cell_type": "code",
   "execution_count": 87,
   "id": "hydraulic-trace",
   "metadata": {},
   "outputs": [],
   "source": [
    "#train_output_example[0, :]"
   ]
  },
  {
   "cell_type": "markdown",
   "id": "accurate-ukraine",
   "metadata": {},
   "source": [
    "# Entrenamiento de Modelo"
   ]
  },
  {
   "cell_type": "code",
   "execution_count": 32,
   "id": "twelve-society",
   "metadata": {},
   "outputs": [],
   "source": [
    "from datetime import datetime"
   ]
  },
  {
   "cell_type": "code",
   "execution_count": 33,
   "id": "surprising-travel",
   "metadata": {},
   "outputs": [],
   "source": [
    "def load_dataset(path_to_features, path_to_labels):\n",
    "    features = np.load(path_to_features)\n",
    "    labels = np.load(path_to_labels)\n",
    "    \n",
    "    assert features.shape[0] == labels.shape[0]\n",
    "    dataset = tf.data.Dataset.from_tensor_slices((features, labels)).batch(128)\n",
    "    return dataset"
   ]
  },
  {
   "cell_type": "code",
   "execution_count": 34,
   "id": "worse-world",
   "metadata": {},
   "outputs": [],
   "source": [
    "train_features = os.path.join('data', 'input_train.npy')\n",
    "train_labels = os.path.join('data', 'output_train.npy')\n",
    "train_dataset = load_dataset(train_features, train_labels)\n",
    "\n",
    "val_features = os.path.join('data', 'input_val.npy')\n",
    "val_labels = os.path.join('data', 'output_val.npy')\n",
    "val_dataset = load_dataset(val_features, val_labels)\n",
    "\n",
    "test_features = os.path.join('data', 'input_test.npy')\n",
    "test_labels = os.path.join('data', 'output_test.npy')\n",
    "test_dataset = load_dataset(test_features, test_labels)"
   ]
  },
  {
   "cell_type": "code",
   "execution_count": 35,
   "id": "facial-corps",
   "metadata": {},
   "outputs": [],
   "source": [
    "def validate_inf(arrays):\n",
    "    for array in arrays:\n",
    "        loaded_array = np.load(os.path.join(array))\n",
    "        n_inf = np.isinf(loaded_array).sum()\n",
    "        if n_inf:\n",
    "            print(f'Array {array} contains INF values')\n",
    "            \n",
    "        n_nan = np.isnan(loaded_array).sum()\n",
    "        if n_nan:\n",
    "            print(f'Array {array} contains NAN values')"
   ]
  },
  {
   "cell_type": "code",
   "execution_count": 36,
   "id": "derived-dynamics",
   "metadata": {},
   "outputs": [],
   "source": [
    "validate_inf([train_features, train_labels, val_features, val_labels])"
   ]
  },
  {
   "cell_type": "code",
   "execution_count": 37,
   "id": "banner-mandate",
   "metadata": {},
   "outputs": [
    {
     "data": {
      "text/plain": [
       "12.03232"
      ]
     },
     "execution_count": 37,
     "metadata": {},
     "output_type": "execute_result"
    }
   ],
   "source": [
    "np.load(val_labels).max()"
   ]
  },
  {
   "cell_type": "code",
   "execution_count": 38,
   "id": "automated-appreciation",
   "metadata": {},
   "outputs": [
    {
     "data": {
      "text/plain": [
       "0"
      ]
     },
     "execution_count": 38,
     "metadata": {},
     "output_type": "execute_result"
    }
   ],
   "source": [
    "np.isnan(np.load(val_labels)).sum()"
   ]
  },
  {
   "cell_type": "code",
   "execution_count": 39,
   "id": "violent-standard",
   "metadata": {},
   "outputs": [],
   "source": [
    "model = tf.keras.models.Sequential([\n",
    "                tf.keras.layers.LSTM(64, return_sequences=True, activation='relu'),\n",
    "                tf.keras.layers.Dropout(0.05),\n",
    "                tf.keras.layers.LSTM(32, return_sequences=True, activation='relu'),\n",
    "                tf.keras.layers.Dropout(0.05),\n",
    "                tf.keras.layers.LSTM(16, return_sequences=False, activation='relu'),\n",
    "                tf.keras.layers.Dropout(0.05),\n",
    "                tf.keras.layers.Dense(24),\n",
    "                ])"
   ]
  },
  {
   "cell_type": "code",
   "execution_count": 40,
   "id": "arranged-diamond",
   "metadata": {},
   "outputs": [],
   "source": [
    "\n",
    "checkpoint_folder = 'training/'\n",
    "tf_log_dir = 'training/logs'\n",
    "\n",
    "if not os.path.exists(tf_log_dir):\n",
    "    os.mkdir(tf_log_dir)\n",
    "if not os.path.exists(checkpoint_folder):\n",
    "    os.mkdir(checkpoint_folder)"
   ]
  },
  {
   "cell_type": "code",
   "execution_count": 43,
   "id": "accepting-numbers",
   "metadata": {},
   "outputs": [],
   "source": [
    "name = 'random_dropout_0.05'\n",
    "execution_time = datetime.now().strftime(\"%Y%m%d-%H%M%S\")\n",
    "tf_log_dir = 'training'\n",
    "logdir = f\"{tf_log_dir}/arbitrary/{name}_{execution_time}\" \n",
    "tensorboard_callback = tf.keras.callbacks.TensorBoard(log_dir=logdir)\n",
    "\n",
    "checkpoint_path = f\"{checkpoint_folder}/checkpoints_{name}_{execution_time}/cp.ckpt\"\n",
    "checkpoints_callback = tf.keras.callbacks.ModelCheckpoint(filepath=checkpoint_path,\n",
    "                                                 save_best_only=True,\n",
    "                                                 save_weights_only=True,\n",
    "                                                 verbose=1)\n",
    "\n",
    "\n",
    "earlystopping_callback = tf.keras.callbacks.EarlyStopping(monitor='val_loss', patience=5)"
   ]
  },
  {
   "cell_type": "code",
   "execution_count": 44,
   "id": "missing-medicare",
   "metadata": {},
   "outputs": [],
   "source": [
    "optimizer = tf.optimizers.Adam(learning_rate=0.001)\n",
    "EPOCHS = 200\n",
    "model.compile(\n",
    "      optimizer=optimizer,\n",
    "      loss=tf.losses.MeanSquaredError(),\n",
    "      metrics=[tf.keras.metrics.RootMeanSquaredError(), tf.keras.metrics.MeanAbsoluteError()],\n",
    "    )"
   ]
  },
  {
   "cell_type": "code",
   "execution_count": 45,
   "id": "flying-space",
   "metadata": {},
   "outputs": [
    {
     "name": "stdout",
     "output_type": "stream",
     "text": [
      "Epoch 1/200\n",
      "  1/113 [..............................] - ETA: 0s - loss: 701.4067 - root_mean_squared_error: 26.4841 - mean_absolute_error: 8.0668WARNING:tensorflow:From /Users/jcobapuerto/Library/Python/3.8/lib/python/site-packages/tensorflow/python/ops/summary_ops_v2.py:1277: stop (from tensorflow.python.eager.profiler) is deprecated and will be removed after 2020-07-01.\n",
      "Instructions for updating:\n",
      "use `tf.profiler.experimental.stop` instead.\n",
      "  2/113 [..............................] - ETA: 15s - loss: 371.6580 - root_mean_squared_error: 19.2784 - mean_absolute_error: 6.7454WARNING:tensorflow:Callbacks method `on_train_batch_end` is slow compared to the batch time (batch time: 0.0650s vs `on_train_batch_end` time: 0.2129s). Check your callbacks.\n",
      "113/113 [==============================] - ETA: 0s - loss: 22.6829 - root_mean_squared_error: 4.7627 - mean_absolute_error: 3.3053\n",
      "Epoch 00001: val_loss improved from inf to 3.15530, saving model to training//checkpoints_random_dropout_0.05_20220509-150941/cp.ckpt\n",
      "113/113 [==============================] - 6s 55ms/step - loss: 22.6829 - root_mean_squared_error: 4.7627 - mean_absolute_error: 3.3053 - val_loss: 3.1553 - val_root_mean_squared_error: 1.7763 - val_mean_absolute_error: 1.1070\n",
      "Epoch 2/200\n",
      "113/113 [==============================] - ETA: 0s - loss: 1.5644 - root_mean_squared_error: 1.2507 - mean_absolute_error: 0.8201\n",
      "Epoch 00002: val_loss improved from 3.15530 to 0.30037, saving model to training//checkpoints_random_dropout_0.05_20220509-150941/cp.ckpt\n",
      "113/113 [==============================] - 5s 47ms/step - loss: 1.5644 - root_mean_squared_error: 1.2507 - mean_absolute_error: 0.8201 - val_loss: 0.3004 - val_root_mean_squared_error: 0.5481 - val_mean_absolute_error: 0.4037\n",
      "Epoch 3/200\n",
      "112/113 [============================>.] - ETA: 0s - loss: 0.8636 - root_mean_squared_error: 0.9293 - mean_absolute_error: 0.6185\n",
      "Epoch 00003: val_loss improved from 0.30037 to 0.23263, saving model to training//checkpoints_random_dropout_0.05_20220509-150941/cp.ckpt\n",
      "113/113 [==============================] - 5s 47ms/step - loss: 0.8643 - root_mean_squared_error: 0.9297 - mean_absolute_error: 0.6188 - val_loss: 0.2326 - val_root_mean_squared_error: 0.4823 - val_mean_absolute_error: 0.3377\n",
      "Epoch 4/200\n",
      "112/113 [============================>.] - ETA: 0s - loss: 0.7285 - root_mean_squared_error: 0.8535 - mean_absolute_error: 0.5726\n",
      "Epoch 00004: val_loss did not improve from 0.23263\n",
      "113/113 [==============================] - 6s 50ms/step - loss: 0.7281 - root_mean_squared_error: 0.8533 - mean_absolute_error: 0.5725 - val_loss: 0.2340 - val_root_mean_squared_error: 0.4838 - val_mean_absolute_error: 0.3620\n",
      "Epoch 5/200\n",
      "113/113 [==============================] - ETA: 0s - loss: 0.6602 - root_mean_squared_error: 0.8125 - mean_absolute_error: 0.5512\n",
      "Epoch 00005: val_loss did not improve from 0.23263\n",
      "113/113 [==============================] - 5s 49ms/step - loss: 0.6602 - root_mean_squared_error: 0.8125 - mean_absolute_error: 0.5512 - val_loss: 0.2347 - val_root_mean_squared_error: 0.4844 - val_mean_absolute_error: 0.3589\n",
      "Epoch 6/200\n",
      "112/113 [============================>.] - ETA: 0s - loss: 0.5902 - root_mean_squared_error: 0.7682 - mean_absolute_error: 0.5213\n",
      "Epoch 00006: val_loss improved from 0.23263 to 0.19258, saving model to training//checkpoints_random_dropout_0.05_20220509-150941/cp.ckpt\n",
      "113/113 [==============================] - 6s 49ms/step - loss: 0.5899 - root_mean_squared_error: 0.7680 - mean_absolute_error: 0.5212 - val_loss: 0.1926 - val_root_mean_squared_error: 0.4388 - val_mean_absolute_error: 0.3069\n",
      "Epoch 7/200\n",
      "112/113 [============================>.] - ETA: 0s - loss: 0.5731 - root_mean_squared_error: 0.7570 - mean_absolute_error: 0.5188\n",
      "Epoch 00007: val_loss did not improve from 0.19258\n",
      "113/113 [==============================] - 6s 50ms/step - loss: 0.5727 - root_mean_squared_error: 0.7568 - mean_absolute_error: 0.5188 - val_loss: 0.2350 - val_root_mean_squared_error: 0.4848 - val_mean_absolute_error: 0.3623\n",
      "Epoch 8/200\n",
      "112/113 [============================>.] - ETA: 0s - loss: 0.5294 - root_mean_squared_error: 0.7276 - mean_absolute_error: 0.5015\n",
      "Epoch 00008: val_loss improved from 0.19258 to 0.18195, saving model to training//checkpoints_random_dropout_0.05_20220509-150941/cp.ckpt\n",
      "113/113 [==============================] - 6s 51ms/step - loss: 0.5301 - root_mean_squared_error: 0.7281 - mean_absolute_error: 0.5018 - val_loss: 0.1820 - val_root_mean_squared_error: 0.4266 - val_mean_absolute_error: 0.2955\n",
      "Epoch 9/200\n",
      "112/113 [============================>.] - ETA: 0s - loss: 0.5115 - root_mean_squared_error: 0.7152 - mean_absolute_error: 0.4921\n",
      "Epoch 00009: val_loss did not improve from 0.18195\n",
      "113/113 [==============================] - 5s 49ms/step - loss: 0.5114 - root_mean_squared_error: 0.7151 - mean_absolute_error: 0.4921 - val_loss: 0.2151 - val_root_mean_squared_error: 0.4638 - val_mean_absolute_error: 0.3473\n",
      "Epoch 10/200\n",
      "112/113 [============================>.] - ETA: 0s - loss: 0.4878 - root_mean_squared_error: 0.6985 - mean_absolute_error: 0.4835\n",
      "Epoch 00010: val_loss did not improve from 0.18195\n",
      "113/113 [==============================] - 5s 47ms/step - loss: 0.4878 - root_mean_squared_error: 0.6984 - mean_absolute_error: 0.4835 - val_loss: 0.2211 - val_root_mean_squared_error: 0.4702 - val_mean_absolute_error: 0.3523\n",
      "Epoch 11/200\n",
      "113/113 [==============================] - ETA: 0s - loss: 0.4675 - root_mean_squared_error: 0.6837 - mean_absolute_error: 0.4751\n",
      "Epoch 00011: val_loss improved from 0.18195 to 0.17671, saving model to training//checkpoints_random_dropout_0.05_20220509-150941/cp.ckpt\n",
      "113/113 [==============================] - 5s 48ms/step - loss: 0.4675 - root_mean_squared_error: 0.6837 - mean_absolute_error: 0.4751 - val_loss: 0.1767 - val_root_mean_squared_error: 0.4204 - val_mean_absolute_error: 0.2945\n",
      "Epoch 12/200\n",
      "113/113 [==============================] - ETA: 0s - loss: 0.4542 - root_mean_squared_error: 0.6739 - mean_absolute_error: 0.4726\n",
      "Epoch 00012: val_loss did not improve from 0.17671\n",
      "113/113 [==============================] - 5s 48ms/step - loss: 0.4542 - root_mean_squared_error: 0.6739 - mean_absolute_error: 0.4726 - val_loss: 0.2337 - val_root_mean_squared_error: 0.4834 - val_mean_absolute_error: 0.3696\n",
      "Epoch 13/200\n",
      "112/113 [============================>.] - ETA: 0s - loss: 0.4329 - root_mean_squared_error: 0.6579 - mean_absolute_error: 0.4634\n",
      "Epoch 00013: val_loss did not improve from 0.17671\n",
      "113/113 [==============================] - 5s 48ms/step - loss: 0.4327 - root_mean_squared_error: 0.6578 - mean_absolute_error: 0.4633 - val_loss: 0.2673 - val_root_mean_squared_error: 0.5170 - val_mean_absolute_error: 0.4186\n",
      "Epoch 14/200\n",
      "112/113 [============================>.] - ETA: 0s - loss: 0.4167 - root_mean_squared_error: 0.6455 - mean_absolute_error: 0.4543\n",
      "Epoch 00014: val_loss did not improve from 0.17671\n",
      "113/113 [==============================] - 6s 51ms/step - loss: 0.4165 - root_mean_squared_error: 0.6454 - mean_absolute_error: 0.4544 - val_loss: 0.1822 - val_root_mean_squared_error: 0.4269 - val_mean_absolute_error: 0.3014\n",
      "Epoch 15/200\n",
      "113/113 [==============================] - ETA: 0s - loss: 0.4044 - root_mean_squared_error: 0.6359 - mean_absolute_error: 0.4492\n",
      "Epoch 00015: val_loss did not improve from 0.17671\n",
      "113/113 [==============================] - 5s 49ms/step - loss: 0.4044 - root_mean_squared_error: 0.6359 - mean_absolute_error: 0.4492 - val_loss: 0.1917 - val_root_mean_squared_error: 0.4379 - val_mean_absolute_error: 0.3180\n",
      "Epoch 16/200\n",
      "113/113 [==============================] - ETA: 0s - loss: 0.4123 - root_mean_squared_error: 0.6421 - mean_absolute_error: 0.4589\n",
      "Epoch 00016: val_loss improved from 0.17671 to 0.16091, saving model to training//checkpoints_random_dropout_0.05_20220509-150941/cp.ckpt\n",
      "113/113 [==============================] - 6s 58ms/step - loss: 0.4123 - root_mean_squared_error: 0.6421 - mean_absolute_error: 0.4589 - val_loss: 0.1609 - val_root_mean_squared_error: 0.4011 - val_mean_absolute_error: 0.2777\n",
      "Epoch 17/200\n"
     ]
    },
    {
     "name": "stdout",
     "output_type": "stream",
     "text": [
      "112/113 [============================>.] - ETA: 0s - loss: 0.3852 - root_mean_squared_error: 0.6207 - mean_absolute_error: 0.4422\n",
      "Epoch 00017: val_loss did not improve from 0.16091\n",
      "113/113 [==============================] - 6s 50ms/step - loss: 0.3850 - root_mean_squared_error: 0.6205 - mean_absolute_error: 0.4422 - val_loss: 0.1658 - val_root_mean_squared_error: 0.4072 - val_mean_absolute_error: 0.2880\n",
      "Epoch 18/200\n",
      "113/113 [==============================] - ETA: 0s - loss: 0.3819 - root_mean_squared_error: 0.6180 - mean_absolute_error: 0.4415\n",
      "Epoch 00018: val_loss did not improve from 0.16091\n",
      "113/113 [==============================] - 6s 51ms/step - loss: 0.3819 - root_mean_squared_error: 0.6180 - mean_absolute_error: 0.4415 - val_loss: 0.1867 - val_root_mean_squared_error: 0.4321 - val_mean_absolute_error: 0.3122\n",
      "Epoch 19/200\n",
      "113/113 [==============================] - ETA: 0s - loss: 0.3778 - root_mean_squared_error: 0.6147 - mean_absolute_error: 0.4419\n",
      "Epoch 00019: val_loss did not improve from 0.16091\n",
      "113/113 [==============================] - 6s 49ms/step - loss: 0.3778 - root_mean_squared_error: 0.6147 - mean_absolute_error: 0.4419 - val_loss: 0.1908 - val_root_mean_squared_error: 0.4368 - val_mean_absolute_error: 0.3205\n",
      "Epoch 20/200\n",
      "113/113 [==============================] - ETA: 0s - loss: 0.3738 - root_mean_squared_error: 0.6114 - mean_absolute_error: 0.4399\n",
      "Epoch 00020: val_loss improved from 0.16091 to 0.16032, saving model to training//checkpoints_random_dropout_0.05_20220509-150941/cp.ckpt\n",
      "113/113 [==============================] - 6s 52ms/step - loss: 0.3738 - root_mean_squared_error: 0.6114 - mean_absolute_error: 0.4399 - val_loss: 0.1603 - val_root_mean_squared_error: 0.4004 - val_mean_absolute_error: 0.2696\n",
      "Epoch 21/200\n",
      "112/113 [============================>.] - ETA: 0s - loss: 0.3618 - root_mean_squared_error: 0.6015 - mean_absolute_error: 0.4347\n",
      "Epoch 00021: val_loss did not improve from 0.16032\n",
      "113/113 [==============================] - 6s 51ms/step - loss: 0.3614 - root_mean_squared_error: 0.6012 - mean_absolute_error: 0.4345 - val_loss: 0.1827 - val_root_mean_squared_error: 0.4274 - val_mean_absolute_error: 0.3115\n",
      "Epoch 22/200\n",
      "112/113 [============================>.] - ETA: 0s - loss: 0.3529 - root_mean_squared_error: 0.5941 - mean_absolute_error: 0.4271\n",
      "Epoch 00022: val_loss improved from 0.16032 to 0.14501, saving model to training//checkpoints_random_dropout_0.05_20220509-150941/cp.ckpt\n",
      "113/113 [==============================] - 6s 50ms/step - loss: 0.3531 - root_mean_squared_error: 0.5943 - mean_absolute_error: 0.4273 - val_loss: 0.1450 - val_root_mean_squared_error: 0.3808 - val_mean_absolute_error: 0.2481\n",
      "Epoch 23/200\n",
      "113/113 [==============================] - ETA: 0s - loss: 0.3627 - root_mean_squared_error: 0.6023 - mean_absolute_error: 0.4349\n",
      "Epoch 00023: val_loss did not improve from 0.14501\n",
      "113/113 [==============================] - 6s 50ms/step - loss: 0.3627 - root_mean_squared_error: 0.6023 - mean_absolute_error: 0.4349 - val_loss: 0.2124 - val_root_mean_squared_error: 0.4608 - val_mean_absolute_error: 0.3551\n",
      "Epoch 24/200\n",
      "112/113 [============================>.] - ETA: 0s - loss: 0.3500 - root_mean_squared_error: 0.5916 - mean_absolute_error: 0.4276\n",
      "Epoch 00024: val_loss did not improve from 0.14501\n",
      "113/113 [==============================] - 6s 50ms/step - loss: 0.3499 - root_mean_squared_error: 0.5915 - mean_absolute_error: 0.4277 - val_loss: 0.1606 - val_root_mean_squared_error: 0.4007 - val_mean_absolute_error: 0.2821\n",
      "Epoch 25/200\n",
      "112/113 [============================>.] - ETA: 0s - loss: 0.3477 - root_mean_squared_error: 0.5897 - mean_absolute_error: 0.4249\n",
      "Epoch 00025: val_loss did not improve from 0.14501\n",
      "113/113 [==============================] - 6s 51ms/step - loss: 0.3475 - root_mean_squared_error: 0.5895 - mean_absolute_error: 0.4247 - val_loss: 0.2060 - val_root_mean_squared_error: 0.4539 - val_mean_absolute_error: 0.3376\n",
      "Epoch 26/200\n",
      "113/113 [==============================] - ETA: 0s - loss: 0.3378 - root_mean_squared_error: 0.5812 - mean_absolute_error: 0.4211\n",
      "Epoch 00026: val_loss did not improve from 0.14501\n",
      "113/113 [==============================] - 6s 49ms/step - loss: 0.3378 - root_mean_squared_error: 0.5812 - mean_absolute_error: 0.4211 - val_loss: 0.1654 - val_root_mean_squared_error: 0.4066 - val_mean_absolute_error: 0.2918\n",
      "Epoch 27/200\n",
      "112/113 [============================>.] - ETA: 0s - loss: 0.3356 - root_mean_squared_error: 0.5793 - mean_absolute_error: 0.4203\n",
      "Epoch 00027: val_loss did not improve from 0.14501\n",
      "113/113 [==============================] - 6s 53ms/step - loss: 0.3354 - root_mean_squared_error: 0.5792 - mean_absolute_error: 0.4201 - val_loss: 0.2139 - val_root_mean_squared_error: 0.4625 - val_mean_absolute_error: 0.3649\n"
     ]
    },
    {
     "data": {
      "text/plain": [
       "<tensorflow.python.keras.callbacks.History at 0x13c68f520>"
      ]
     },
     "execution_count": 45,
     "metadata": {},
     "output_type": "execute_result"
    }
   ],
   "source": [
    "model.fit(train_dataset, validation_data=val_dataset, \n",
    "              callbacks=[tensorboard_callback, checkpoints_callback, earlystopping_callback],\n",
    "              epochs=EPOCHS, verbose =1) \n",
    "    "
   ]
  },
  {
   "cell_type": "code",
   "execution_count": 46,
   "id": "announced-nerve",
   "metadata": {},
   "outputs": [
    {
     "name": "stdout",
     "output_type": "stream",
     "text": [
      "18/18 [==============================] - 0s 16ms/step - loss: 0.2156 - root_mean_squared_error: 0.4643 - mean_absolute_error: 0.3599\n"
     ]
    },
    {
     "data": {
      "text/plain": [
       "[0.21556183695793152, 0.46428635716438293, 0.3598743975162506]"
      ]
     },
     "execution_count": 46,
     "metadata": {},
     "output_type": "execute_result"
    }
   ],
   "source": [
    "model.evaluate(test_dataset)"
   ]
  },
  {
   "cell_type": "code",
   "execution_count": 47,
   "id": "assigned-publication",
   "metadata": {},
   "outputs": [
    {
     "name": "stdout",
     "output_type": "stream",
     "text": [
      "15/15 [==============================] - 0s 15ms/step - loss: 0.2139 - root_mean_squared_error: 0.4625 - mean_absolute_error: 0.3649\n"
     ]
    },
    {
     "data": {
      "text/plain": [
       "[0.21389378607273102, 0.46248650550842285, 0.36485910415649414]"
      ]
     },
     "execution_count": 47,
     "metadata": {},
     "output_type": "execute_result"
    }
   ],
   "source": [
    "model.evaluate(val_dataset)"
   ]
  },
  {
   "cell_type": "code",
   "execution_count": 60,
   "id": "separate-burning",
   "metadata": {},
   "outputs": [],
   "source": [
    "X = np.load(test_features)\n",
    "Y = np.load(test_labels)"
   ]
  },
  {
   "cell_type": "code",
   "execution_count": 61,
   "id": "other-middle",
   "metadata": {},
   "outputs": [],
   "source": [
    "Y_hat = model.predict(X)"
   ]
  },
  {
   "cell_type": "code",
   "execution_count": 122,
   "id": "julian-blink",
   "metadata": {},
   "outputs": [],
   "source": [
    "def plot_predictions(Y_past, Y_true, Y_pred, idx_obs, exponent = True):\n",
    "    plt.figure(figsize = (10, 5))\n",
    "    input_length = Y_past.shape[1]\n",
    "    ouput_length = Y_pred.shape[1]\n",
    "    if not exponent:\n",
    "        plt.plot(np.arange(input_length), Y_past[idx_obs, :, 0], color = 'black')\n",
    "        plt.plot(np.arange(input_length, input_length+ouput_length), Y_true[idx_obs,: ], color = 'black', label = 'True Usage', linestyle = '--')\n",
    "        plt.plot(np.arange(input_length, input_length+ouput_length), Y_pred[idx_obs, :], color = 'red', label = 'Prediction')\n",
    "    else:\n",
    "        plt.plot(np.arange(input_length), np.exp(Y_past[idx_obs, :, 0]) - 1, color = 'black')\n",
    "        plt.plot(np.arange(input_length, input_length+ouput_length), np.exp(Y_true[idx_obs,: ]) - 1, color = 'black', label = 'True Usage', linestyle = '--')\n",
    "        plt.plot(np.arange(input_length, input_length+ouput_length), np.exp(Y_pred[idx_obs, :]) - 1, color = 'red', label = 'Prediction')\n",
    "    plt.legend()"
   ]
  },
  {
   "cell_type": "code",
   "execution_count": 123,
   "id": "relevant-winner",
   "metadata": {},
   "outputs": [
    {
     "data": {
      "image/png": "[encoded data removed]",
      "text/plain": [
       "<Figure size 720x360 with 1 Axes>"
      ]
     },
     "metadata": {
      "needs_background": "light"
     },
     "output_type": "display_data"
    }
   ],
   "source": [
    "plot_predictions(X, Y, Y_hat, 2)"
   ]
  },
  {
   "cell_type": "code",
   "execution_count": 124,
   "id": "peaceful-reproduction",
   "metadata": {},
   "outputs": [
    {
     "data": {
      "image/png": "[encoded data removed]",
      "text/plain": [
       "<Figure size 720x360 with 1 Axes>"
      ]
     },
     "metadata": {
      "needs_background": "light"
     },
     "output_type": "display_data"
    }
   ],
   "source": [
    "plot_predictions(X, Y, Y_hat, 13)"
   ]
  },
  {
   "cell_type": "code",
   "execution_count": 125,
   "id": "turned-sydney",
   "metadata": {},
   "outputs": [
    {
     "data": {
      "image/png": "[encoded data removed]",
      "text/plain": [
       "<Figure size 720x360 with 1 Axes>"
      ]
     },
     "metadata": {
      "needs_background": "light"
     },
     "output_type": "display_data"
    }
   ],
   "source": [
    "plot_predictions(X, Y, Y_hat, 41)"
   ]
  },
  {
   "cell_type": "code",
   "execution_count": null,
   "id": "intense-douglas",
   "metadata": {},
   "outputs": [],
   "source": []
  }
 ],
 "metadata": {
  "kernelspec": {
   "display_name": "Python 3",
   "language": "python",
   "name": "python3"
  },
  "language_info": {
   "codemirror_mode": {
    "name": "ipython",
    "version": 3
   },
   "file_extension": ".py",
   "mimetype": "text/x-python",
   "name": "python",
   "nbconvert_exporter": "python",
   "pygments_lexer": "ipython3",
   "version": "3.8.2"
  }
 },
 "nbformat": 4,
 "nbformat_minor": 5
}
