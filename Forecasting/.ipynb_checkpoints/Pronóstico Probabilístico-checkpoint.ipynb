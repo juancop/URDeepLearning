{
 "cells": [
  {
   "cell_type": "markdown",
   "id": "radio-socket",
   "metadata": {},
   "source": [
    "# Pronósticos usando Deep Learning\n",
    "\n",
    "Contexto bla bla bla\n",
    "\n",
    "\n",
    "The UCI Electricity Load Diagrams Dataset, containing the\n",
    "electricity consumption of 370 customers – aggregated on an hourly level as\n",
    "in [32]. In accordance with [9], we use the past week (i.e. 168 hours) to\n",
    "forecast over the next 24 hours."
   ]
  },
  {
   "cell_type": "code",
   "execution_count": 1,
   "id": "regular-aluminum",
   "metadata": {},
   "outputs": [],
   "source": [
    "import pandas as pd\n",
    "import numpy as np\n",
    "import seaborn as sns\n",
    "import os\n",
    "import matplotlib.pyplot as plt\n",
    "import tensorflow as tf\n",
    "from tqdm import tqdm"
   ]
  },
  {
   "cell_type": "code",
   "execution_count": 2,
   "id": "magnetic-bride",
   "metadata": {},
   "outputs": [],
   "source": [
    "np.random.seed(42)"
   ]
  },
  {
   "cell_type": "code",
   "execution_count": 3,
   "id": "introductory-democrat",
   "metadata": {},
   "outputs": [],
   "source": [
    "#df.sort_values(by = 'date')[df.hour == 0].groupby('date').head(1).date.values.tolist()"
   ]
  },
  {
   "cell_type": "code",
   "execution_count": 4,
   "id": "scenic-arthritis",
   "metadata": {},
   "outputs": [
    {
     "data": {
      "text/plain": [
       "'2.3.1'"
      ]
     },
     "execution_count": 4,
     "metadata": {},
     "output_type": "execute_result"
    }
   ],
   "source": [
    "tf.__version__"
   ]
  },
  {
   "cell_type": "markdown",
   "id": "detected-scottish",
   "metadata": {},
   "source": [
    "## Carga de Información"
   ]
  },
  {
   "cell_type": "code",
   "execution_count": 5,
   "id": "funky-respect",
   "metadata": {},
   "outputs": [],
   "source": [
    "#df = df[df.categorical_id == 'MT_353']\n",
    "df = pd.read_csv('sample/electricity.csv')"
   ]
  },
  {
   "cell_type": "code",
   "execution_count": 6,
   "id": "roman-latino",
   "metadata": {},
   "outputs": [],
   "source": [
    "df = df.groupby('categorical_id').tail(24*7*4*2)"
   ]
  },
  {
   "cell_type": "code",
   "execution_count": 7,
   "id": "going-cheat",
   "metadata": {},
   "outputs": [],
   "source": [
    "df = df.sort_values(by = ['categorical_id', 'date'])"
   ]
  },
  {
   "cell_type": "code",
   "execution_count": 8,
   "id": "fleet-contact",
   "metadata": {},
   "outputs": [],
   "source": [
    "#df['lag_usage'] = df.groupby('categorical_id').power_usage.shift(24)"
   ]
  },
  {
   "cell_type": "code",
   "execution_count": 9,
   "id": "authorized-athens",
   "metadata": {},
   "outputs": [],
   "source": [
    "#df['D_usage'] = df['power_usage'] - df['lag_usage']"
   ]
  },
  {
   "cell_type": "code",
   "execution_count": 10,
   "id": "dietary-instruction",
   "metadata": {},
   "outputs": [],
   "source": [
    "#df[\"mean_usage\"] = df.groupby(['categorical_id', 'hour']).power_usage.transform(np.mean)\n",
    "#df['deseasonalized_usage'] = df['power_usage']/df['mean_usage']"
   ]
  },
  {
   "cell_type": "code",
   "execution_count": 11,
   "id": "minimal-clearing",
   "metadata": {},
   "outputs": [
    {
     "data": {
      "text/html": [
       "<div>\n",
       "<style scoped>\n",
       "    .dataframe tbody tr th:only-of-type {\n",
       "        vertical-align: middle;\n",
       "    }\n",
       "\n",
       "    .dataframe tbody tr th {\n",
       "        vertical-align: top;\n",
       "    }\n",
       "\n",
       "    .dataframe thead th {\n",
       "        text-align: right;\n",
       "    }\n",
       "</style>\n",
       "<table border=\"1\" class=\"dataframe\">\n",
       "  <thead>\n",
       "    <tr style=\"text-align: right;\">\n",
       "      <th></th>\n",
       "      <th>power_usage</th>\n",
       "      <th>t</th>\n",
       "      <th>days_from_start</th>\n",
       "      <th>categorical_id</th>\n",
       "      <th>date</th>\n",
       "      <th>id</th>\n",
       "      <th>hour</th>\n",
       "      <th>day</th>\n",
       "      <th>day_of_week</th>\n",
       "      <th>month</th>\n",
       "      <th>hours_from_start</th>\n",
       "      <th>categorical_day_of_week</th>\n",
       "      <th>categorical_hour</th>\n",
       "    </tr>\n",
       "  </thead>\n",
       "  <tbody>\n",
       "    <tr>\n",
       "      <th>0</th>\n",
       "      <td>1.586294</td>\n",
       "      <td>30960.0</td>\n",
       "      <td>1290</td>\n",
       "      <td>MT_001</td>\n",
       "      <td>2014-07-14 00:00:00</td>\n",
       "      <td>MT_001</td>\n",
       "      <td>0</td>\n",
       "      <td>14</td>\n",
       "      <td>0</td>\n",
       "      <td>7</td>\n",
       "      <td>30960.0</td>\n",
       "      <td>0</td>\n",
       "      <td>0</td>\n",
       "    </tr>\n",
       "    <tr>\n",
       "      <th>1</th>\n",
       "      <td>1.269036</td>\n",
       "      <td>30961.0</td>\n",
       "      <td>1290</td>\n",
       "      <td>MT_001</td>\n",
       "      <td>2014-07-14 01:00:00</td>\n",
       "      <td>MT_001</td>\n",
       "      <td>1</td>\n",
       "      <td>14</td>\n",
       "      <td>0</td>\n",
       "      <td>7</td>\n",
       "      <td>30961.0</td>\n",
       "      <td>0</td>\n",
       "      <td>1</td>\n",
       "    </tr>\n",
       "    <tr>\n",
       "      <th>2</th>\n",
       "      <td>1.269036</td>\n",
       "      <td>30962.0</td>\n",
       "      <td>1290</td>\n",
       "      <td>MT_001</td>\n",
       "      <td>2014-07-14 02:00:00</td>\n",
       "      <td>MT_001</td>\n",
       "      <td>2</td>\n",
       "      <td>14</td>\n",
       "      <td>0</td>\n",
       "      <td>7</td>\n",
       "      <td>30962.0</td>\n",
       "      <td>0</td>\n",
       "      <td>2</td>\n",
       "    </tr>\n",
       "    <tr>\n",
       "      <th>3</th>\n",
       "      <td>1.269036</td>\n",
       "      <td>30963.0</td>\n",
       "      <td>1290</td>\n",
       "      <td>MT_001</td>\n",
       "      <td>2014-07-14 03:00:00</td>\n",
       "      <td>MT_001</td>\n",
       "      <td>3</td>\n",
       "      <td>14</td>\n",
       "      <td>0</td>\n",
       "      <td>7</td>\n",
       "      <td>30963.0</td>\n",
       "      <td>0</td>\n",
       "      <td>3</td>\n",
       "    </tr>\n",
       "    <tr>\n",
       "      <th>4</th>\n",
       "      <td>1.586294</td>\n",
       "      <td>30964.0</td>\n",
       "      <td>1290</td>\n",
       "      <td>MT_001</td>\n",
       "      <td>2014-07-14 04:00:00</td>\n",
       "      <td>MT_001</td>\n",
       "      <td>4</td>\n",
       "      <td>14</td>\n",
       "      <td>0</td>\n",
       "      <td>7</td>\n",
       "      <td>30964.0</td>\n",
       "      <td>0</td>\n",
       "      <td>4</td>\n",
       "    </tr>\n",
       "  </tbody>\n",
       "</table>\n",
       "</div>"
      ],
      "text/plain": [
       "   power_usage        t  days_from_start categorical_id                 date  \\\n",
       "0     1.586294  30960.0             1290         MT_001  2014-07-14 00:00:00   \n",
       "1     1.269036  30961.0             1290         MT_001  2014-07-14 01:00:00   \n",
       "2     1.269036  30962.0             1290         MT_001  2014-07-14 02:00:00   \n",
       "3     1.269036  30963.0             1290         MT_001  2014-07-14 03:00:00   \n",
       "4     1.586294  30964.0             1290         MT_001  2014-07-14 04:00:00   \n",
       "\n",
       "       id  hour  day  day_of_week  month  hours_from_start  \\\n",
       "0  MT_001     0   14            0      7           30960.0   \n",
       "1  MT_001     1   14            0      7           30961.0   \n",
       "2  MT_001     2   14            0      7           30962.0   \n",
       "3  MT_001     3   14            0      7           30963.0   \n",
       "4  MT_001     4   14            0      7           30964.0   \n",
       "\n",
       "   categorical_day_of_week  categorical_hour  \n",
       "0                        0                 0  \n",
       "1                        0                 1  \n",
       "2                        0                 2  \n",
       "3                        0                 3  \n",
       "4                        0                 4  "
      ]
     },
     "execution_count": 11,
     "metadata": {},
     "output_type": "execute_result"
    }
   ],
   "source": [
    "df.head()"
   ]
  },
  {
   "cell_type": "code",
   "execution_count": 12,
   "id": "specified-forum",
   "metadata": {},
   "outputs": [],
   "source": [
    "df = df[df.date > '2014-05-05']"
   ]
  },
  {
   "cell_type": "code",
   "execution_count": 13,
   "id": "talented-compromise",
   "metadata": {},
   "outputs": [
    {
     "data": {
      "text/plain": [
       "72"
      ]
     },
     "execution_count": 13,
     "metadata": {},
     "output_type": "execute_result"
    }
   ],
   "source": [
    "48+24"
   ]
  },
  {
   "cell_type": "code",
   "execution_count": 14,
   "id": "necessary-cutting",
   "metadata": {},
   "outputs": [
    {
     "data": {
      "text/plain": [
       "count    495840.000000\n",
       "mean        752.696143\n",
       "std        5142.230794\n",
       "min           0.000000\n",
       "25%          53.471730\n",
       "50%         129.042758\n",
       "75%         340.840841\n",
       "max      168100.000000\n",
       "Name: power_usage, dtype: float64"
      ]
     },
     "execution_count": 14,
     "metadata": {},
     "output_type": "execute_result"
    }
   ],
   "source": [
    "df.power_usage.describe()"
   ]
  },
  {
   "cell_type": "code",
   "execution_count": 15,
   "id": "fourth-indonesian",
   "metadata": {},
   "outputs": [],
   "source": [
    "#unique_dates[:3000]"
   ]
  },
  {
   "cell_type": "code",
   "execution_count": 16,
   "id": "overhead-publication",
   "metadata": {},
   "outputs": [],
   "source": [
    "def plot_id_info(df, customer_id, variable, n_history = 72, target_length = 24):\n",
    "    \"\"\"\n",
    "    Plots a customer's information for the last week + 24 hours.\n",
    "    \"\"\"\n",
    "    plt.figure(figsize =(10, 5))\n",
    "    customer_df = df[df.categorical_id == customer_id].copy().sort_values(by='date').tail(n_history)\n",
    "    customer_df['date'] = pd.to_datetime(customer_df['date'])\n",
    "    \n",
    "    plt.plot(customer_df['date'].head(n_history - target_length), customer_df[variable].head(n_history - target_length), label = 'Input', color = 'black')\n",
    "    plt.plot(customer_df['date'].tail(target_length), customer_df[variable].tail(target_length), label = 'Target', color = 'red')\n",
    "    plt.legend()"
   ]
  },
  {
   "cell_type": "code",
   "execution_count": 17,
   "id": "undefined-tiger",
   "metadata": {},
   "outputs": [
    {
     "data": {
      "image/png": "[encoded data removed]",
      "text/plain": [
       "<Figure size 720x360 with 1 Axes>"
      ]
     },
     "metadata": {
      "needs_background": "light"
     },
     "output_type": "display_data"
    }
   ],
   "source": [
    "plot_id_info(df, 'MT_353', 'power_usage')"
   ]
  },
  {
   "cell_type": "code",
   "execution_count": 18,
   "id": "proprietary-alias",
   "metadata": {},
   "outputs": [
    {
     "data": {
      "image/png": "[encoded data removed]",
      "text/plain": [
       "<Figure size 720x360 with 1 Axes>"
      ]
     },
     "metadata": {
      "needs_background": "light"
     },
     "output_type": "display_data"
    }
   ],
   "source": [
    "plot_id_info(df, 'MT_178', 'power_usage')"
   ]
  },
  {
   "cell_type": "markdown",
   "id": "german-society",
   "metadata": {},
   "source": [
    "# Datos para Entrenamiento\n",
    "\n",
    "Este es un problema de pronóstico de múltiples series con un horizonte \"múltiple\", por lo que este problema se puede atacar de varias formas: \n",
    "1. Pronosticar directamente las 24 horas\n",
    "2. Pronosticar una hora a la vez e ir moviendo la información\n",
    "3. Pronosticar una hora a la vez utilizando autoregresivamente las predicciones\n",
    "\n",
    "Vamos a ir por el primero. \n",
    "\n",
    "En TensorFlow tenemos formas de entrenar modelos para series de tiempo del mismo individuo, pero en este caso tenemos 370 individuos difernetes.\n",
    "\n"
   ]
  },
  {
   "cell_type": "code",
   "execution_count": 46,
   "id": "expired-quarter",
   "metadata": {},
   "outputs": [],
   "source": [
    "class processElectricityDataFrame:\n",
    "    \"\"\"\n",
    "    Procesa el DataFrame para generar un data set de ventanas.\n",
    "    \"\"\"\n",
    "    \n",
    "    def __init__(self, train_df, val_df, test_df, index_variable, target_variable,\n",
    "                input_window, output_window):\n",
    "        self.train_df = train_df\n",
    "        self.val_df = val_df\n",
    "        self.test_df = test_df   \n",
    "        \n",
    "        self.label_name = target_variable\n",
    "        self.input_window = input_window\n",
    "        self.output_window = output_window\n",
    "        self.index_variable = index_variable\n",
    "        \n",
    "        \n",
    "        self.model_columns = None # Variables de la ventana\n",
    "            \n",
    "    \n",
    "    def create_npy_dataset(self, df, folder, name, columns, input_window, output_window, label_name):\n",
    "        \"\"\"\n",
    "            df: DataFrame a utilizar\n",
    "            folder: Folder para almacenar el .npy\n",
    "            columns: Lista de las columnas que se utilizarán al final\n",
    "            name: Nombre para el archivo (train, val, test)\n",
    "            input_window: Tamaño de la ventana de entrada (12)\n",
    "            output_window: Tramaño de la ventana de salida (12)\n",
    "            label_name: Nombre de la variable objetivo\n",
    "        \n",
    "        \"\"\"\n",
    "        file_input = os.path.join(folder, f'input_{name}.npy')\n",
    "        file_output = os.path.join(folder, f'output_{name}.npy')\n",
    "\n",
    "        unique_id_names = df[self.index_variable].value_counts().index.values\n",
    "        npy_input = None\n",
    "        npy_output = None\n",
    "\n",
    "        label_index = columns.index(label_name)\n",
    "        input_columns = columns.copy()\n",
    "            \n",
    "        window_size = input_window + output_window\n",
    "        \n",
    "        print(f'Started .npy creation with name: {name}')\n",
    "        for id_name in tqdm(unique_id_names):\n",
    "            \n",
    "            customer_df = df[df[self.index_variable] == id_name].sort_values(by = 'date').copy()\n",
    "            output_tmp_df = customer_df[columns].values\n",
    "            input_tmp_df = customer_df[input_columns].values\n",
    "            n_windows = len(output_tmp_df) - window_size + 1\n",
    "            \n",
    "            input_array = np.expand_dims(np.arange(self.input_window), 0) +  np.expand_dims(np.arange(n_windows, step = 3), 0).T\n",
    "            output_array = np.expand_dims(np.arange(self.output_window), 0) + self.input_window +  np.expand_dims(np.arange(n_windows, step = 3), 0).T\n",
    "            \n",
    "            \n",
    "            inputs = input_tmp_df[input_array].astype(np.float32)\n",
    "            labels = output_tmp_df[output_array, label_index].astype(np.float32)\n",
    "            \n",
    "            if npy_input is None:\n",
    "                \n",
    "                npy_input = inputs\n",
    "                npy_output = labels\n",
    "            else:\n",
    "                \n",
    "                npy_input = np.append(npy_input, inputs, axis = 0)\n",
    "                npy_output = np.append(npy_output, labels, axis = 0)\n",
    "                \n",
    "                random_index = np.random.choice(npy_input.shape[0], npy_input.shape[0], replace=False)\n",
    "                \n",
    "                npy_input = npy_input[random_index, :, :]\n",
    "                npy_output = npy_output[random_index, :]\n",
    "                \n",
    "        #npy_output = np.repeat(npy_output[:, :, np.newaxis], 3, axis=2)\n",
    "\n",
    "        with open(file_input, 'wb') as f:\n",
    "            np.save(f, npy_input)\n",
    "\n",
    "        with open(file_output, 'wb') as f:\n",
    "            np.save(f, npy_output)\n",
    "\n",
    "        print('Completed .npy creation.')        \n",
    "\n",
    "        \n",
    "    def preprocess_fn(self, df, model_type):      \n",
    "        if model_type == 'raw_inf':\n",
    "            df[self.label_name] = np.log(df[self.label_name] + 1)\n",
    "            self.model_columns = [self.label_name]#, 'hour', 'day_of_week', 'month']\n",
    "            return df\n",
    "        if model_type == 'no_log':\n",
    "            self.model_columns = [self.label_name]#, 'hour', 'day_of_week', 'month']\n",
    "            return df\n",
    "\n",
    "        \n",
    "    def create_all_datasets(self, folder_name = 'data', model_type = 'raw_inf'):\n",
    "        train_df = self.preprocess_fn(self.train_df, model_type)    \n",
    "         \n",
    "        self.create_npy_dataset(df = train_df, folder = folder_name, name = 'train', columns =  self.model_columns,\n",
    "                               input_window = self.input_window, output_window = self.output_window, label_name = self.label_name)\n",
    "        \n",
    "        val_df = self.preprocess_fn(self.val_df, model_type)    \n",
    "         \n",
    "        self.create_npy_dataset(df = val_df, folder = folder_name, name = 'val', columns =  self.model_columns,\n",
    "                               input_window = self.input_window, output_window = self.output_window, label_name = self.label_name)\n",
    "        \n",
    "        \n",
    "        test_df = self.preprocess_fn(self.test_df, model_type)    \n",
    "         \n",
    "        self.create_npy_dataset(df = test_df, folder = folder_name, name = 'test', columns =  self.model_columns,\n",
    "                               input_window = self.input_window, output_window = self.output_window, label_name = self.label_name)"
   ]
  },
  {
   "cell_type": "code",
   "execution_count": 47,
   "id": "ranking-mixture",
   "metadata": {},
   "outputs": [],
   "source": [
    "test_df = df[df.date >= '2014-08-31']\n",
    "val_df = df[(df.date >= '2014-08-24') & (df.date < '2014-08-31')]\n",
    "train_df = df[df.date < '2014-08-24']\n"
   ]
  },
  {
   "cell_type": "code",
   "execution_count": 48,
   "id": "impaired-found",
   "metadata": {},
   "outputs": [],
   "source": [
    "df_process = processElectricityDataFrame(train_df, \n",
    "                                         val_df, \n",
    "                                         test_df, \n",
    "                                         index_variable = 'categorical_id',\n",
    "                                         target_variable = 'power_usage',\n",
    "                                         input_window = 48,\n",
    "                                         output_window = 24)"
   ]
  },
  {
   "cell_type": "code",
   "execution_count": null,
   "id": "auburn-liechtenstein",
   "metadata": {},
   "outputs": [
    {
     "name": "stdout",
     "output_type": "stream",
     "text": [
      "Started .npy creation with name: train\n"
     ]
    },
    {
     "name": "stderr",
     "output_type": "stream",
     "text": [
      " 95%|█████████▌| 352/369 [00:20<00:01, 11.69it/s]"
     ]
    }
   ],
   "source": [
    "df_process.create_all_datasets(folder_name = 'data', model_type = 'no_log')"
   ]
  },
  {
   "cell_type": "markdown",
   "id": "accurate-ukraine",
   "metadata": {},
   "source": [
    "# Entrenamiento de Modelo"
   ]
  },
  {
   "cell_type": "code",
   "execution_count": null,
   "id": "turned-mandate",
   "metadata": {},
   "outputs": [],
   "source": []
  },
  {
   "cell_type": "code",
   "execution_count": null,
   "id": "physical-person",
   "metadata": {},
   "outputs": [],
   "source": []
  },
  {
   "cell_type": "code",
   "execution_count": null,
   "id": "twelve-society",
   "metadata": {},
   "outputs": [],
   "source": [
    "from datetime import datetime"
   ]
  },
  {
   "cell_type": "code",
   "execution_count": null,
   "id": "surprising-travel",
   "metadata": {},
   "outputs": [],
   "source": [
    "def load_dataset(path_to_features, path_to_labels):\n",
    "    features = np.load(path_to_features)\n",
    "    labels = np.load(path_to_labels)\n",
    "    \n",
    "    assert features.shape[0] == labels.shape[0]\n",
    "    dataset = tf.data.Dataset.from_tensor_slices((features, labels)).batch(256)\n",
    "    return dataset"
   ]
  },
  {
   "cell_type": "code",
   "execution_count": null,
   "id": "worse-world",
   "metadata": {},
   "outputs": [],
   "source": [
    "train_features = os.path.join('data', 'input_train.npy')\n",
    "train_labels = os.path.join('data', 'output_train.npy')\n",
    "train_dataset = load_dataset(train_features, train_labels)\n",
    "\n",
    "val_features = os.path.join('data', 'input_val.npy')\n",
    "val_labels = os.path.join('data', 'output_val.npy')\n",
    "val_dataset = load_dataset(val_features, val_labels)\n",
    "\n",
    "test_features = os.path.join('data', 'input_test.npy')\n",
    "test_labels = os.path.join('data', 'output_test.npy')\n",
    "test_dataset = load_dataset(test_features, test_labels)"
   ]
  },
  {
   "cell_type": "code",
   "execution_count": null,
   "id": "electoral-cleanup",
   "metadata": {},
   "outputs": [],
   "source": [
    "def validate_inf(arrays):\n",
    "    for array in arrays:\n",
    "        loaded_array = np.load(os.path.join(array))\n",
    "        n_inf = np.isinf(loaded_array).sum()\n",
    "        if n_inf:\n",
    "            print(f'Array {array} contains INF values')\n",
    "            \n",
    "        n_nan = np.isnan(loaded_array).sum()\n",
    "        if n_nan:\n",
    "            print(f'Array {array} contains NAN values')"
   ]
  },
  {
   "cell_type": "code",
   "execution_count": null,
   "id": "tired-orbit",
   "metadata": {},
   "outputs": [],
   "source": [
    "from tensorflow.keras.losses import Loss\n",
    "\n",
    "class QuantileLoss(Loss):\n",
    "    \n",
    "    def __init__(self, percentiles = [0.1, 0.5, 0.9]):\n",
    "        super().__init__()\n",
    "        self.percentiles = percentiles\n",
    "        self.n_quantiles = len(self.percentiles)\n",
    "\n",
    "    def call(self, y_true, y_pred):\n",
    "        \"\"\"\n",
    "        Computes the Quantile Loss\n",
    "        \"\"\"\n",
    "        \n",
    "        percentiles = tf.constant(self.percentiles, shape = [1, self.n_quantiles], dtype = float)\n",
    "        y_true = tf.expand_dims(y_true, -1)\n",
    "        y_true = tf.repeat(y_true, repeats = self.n_quantiles, axis=-1)\n",
    "        error = tf.math.subtract(y_true, y_pred)\n",
    "\n",
    "        percentile = tf.math.multiply(percentiles, error)\n",
    "        mirror_percentile = tf.math.multiply((percentiles - 1), error)\n",
    "        Quantile_Loss = tf.math.maximum(percentile, mirror_percentile)\n",
    "        return tf.math.reduce_mean(Quantile_Loss)"
   ]
  },
  {
   "cell_type": "code",
   "execution_count": null,
   "id": "violent-standard",
   "metadata": {},
   "outputs": [],
   "source": [
    "OUT_STEPS = 24\n",
    "percentiles = 3\n",
    "model = tf.keras.models.Sequential([\n",
    "                tf.keras.layers.LSTM(64, return_sequences=True, activation='relu'),\n",
    "                tf.keras.layers.Dropout(0.05),\n",
    "                tf.keras.layers.LSTM(32, return_sequences=False, activation='relu'),\n",
    "                tf.keras.layers.Dense(OUT_STEPS*percentiles, kernel_initializer=tf.initializers.zeros()),\n",
    "                tf.keras.layers.Reshape((OUT_STEPS, percentiles))\n",
    "                ])"
   ]
  },
  {
   "cell_type": "code",
   "execution_count": null,
   "id": "arranged-diamond",
   "metadata": {},
   "outputs": [],
   "source": [
    "\n",
    "checkpoint_folder = 'training/'\n",
    "tf_log_dir = 'training/logs'\n",
    "\n",
    "if not os.path.exists(tf_log_dir):\n",
    "    os.mkdir(tf_log_dir)\n",
    "if not os.path.exists(checkpoint_folder):\n",
    "    os.mkdir(checkpoint_folder)"
   ]
  },
  {
   "cell_type": "code",
   "execution_count": null,
   "id": "accepting-numbers",
   "metadata": {},
   "outputs": [],
   "source": [
    "name = 'random_dropout_0.05'\n",
    "execution_time = datetime.now().strftime(\"%Y%m%d-%H%M%S\")\n",
    "tf_log_dir = 'training'\n",
    "logdir = f\"{tf_log_dir}/arbitrary/{name}_{execution_time}\" \n",
    "tensorboard_callback = tf.keras.callbacks.TensorBoard(log_dir=logdir)\n",
    "\n",
    "checkpoint_path = f\"{checkpoint_folder}/checkpoints_{name}_{execution_time}/cp.ckpt\"\n",
    "checkpoints_callback = tf.keras.callbacks.ModelCheckpoint(filepath=checkpoint_path,\n",
    "                                                 save_best_only=True,\n",
    "                                                 save_weights_only=True,\n",
    "                                                 verbose=1)\n",
    "\n",
    "\n",
    "earlystopping_callback = tf.keras.callbacks.EarlyStopping(monitor='val_loss', patience=5)"
   ]
  },
  {
   "cell_type": "code",
   "execution_count": null,
   "id": "missing-medicare",
   "metadata": {},
   "outputs": [],
   "source": [
    "optimizer = tf.optimizers.Adam(learning_rate=0.001)\n",
    "EPOCHS = 200\n",
    "model.compile(\n",
    "      optimizer=optimizer,\n",
    "      loss=QuantileLoss(),# tf.losses.MeanSquaredError(),\n",
    "     \n",
    "    )"
   ]
  },
  {
   "cell_type": "code",
   "execution_count": null,
   "id": "understanding-security",
   "metadata": {},
   "outputs": [],
   "source": [
    "#model.summary()"
   ]
  },
  {
   "cell_type": "code",
   "execution_count": null,
   "id": "flying-space",
   "metadata": {
    "scrolled": true
   },
   "outputs": [],
   "source": [
    "model.fit(train_dataset, validation_data=val_dataset, \n",
    "              callbacks=[tensorboard_callback, checkpoints_callback, earlystopping_callback],\n",
    "              epochs=EPOCHS, verbose =1) \n",
    "    "
   ]
  },
  {
   "cell_type": "code",
   "execution_count": null,
   "id": "neither-truth",
   "metadata": {},
   "outputs": [],
   "source": [
    "model.load_weights(checkpoint_path)"
   ]
  },
  {
   "cell_type": "code",
   "execution_count": null,
   "id": "announced-nerve",
   "metadata": {},
   "outputs": [],
   "source": [
    "model.evaluate(test_dataset)"
   ]
  },
  {
   "cell_type": "code",
   "execution_count": null,
   "id": "underlying-sweden",
   "metadata": {},
   "outputs": [],
   "source": [
    "model.evaluate(val_dataset)"
   ]
  },
  {
   "cell_type": "code",
   "execution_count": null,
   "id": "separate-burning",
   "metadata": {},
   "outputs": [],
   "source": [
    "X = np.load(test_features)\n",
    "Y = np.load(test_labels)"
   ]
  },
  {
   "cell_type": "code",
   "execution_count": null,
   "id": "other-middle",
   "metadata": {},
   "outputs": [],
   "source": [
    "Y_hat = model.predict(X)"
   ]
  },
  {
   "cell_type": "code",
   "execution_count": null,
   "id": "correct-trade",
   "metadata": {},
   "outputs": [],
   "source": [
    "def plot_predictions(Y_past, Y_true, Y_pred, idx_obs, exponent = True):\n",
    "    plt.figure(figsize = (10, 5))\n",
    "    input_length = Y_past.shape[1]\n",
    "    ouput_length = Y_pred.shape[1]\n",
    "    if not exponent:\n",
    "        plt.plot(np.arange(input_length), Y_past[idx_obs, :, 0], color = 'black')\n",
    "        plt.plot(np.arange(input_length, input_length+ouput_length), Y_true[idx_obs,: ], color = 'black', label = 'True Usage', linestyle = '--')\n",
    "        plt.fill_between(np.arange(input_length, input_length+ouput_length), Y_pred[idx_obs, :, 0], Y_pred[idx_obs, :, 2], color='b', alpha=.1)\n",
    "        plt.plot(np.arange(input_length, input_length+ouput_length), Y_pred[idx_obs, :, 1], color = 'red', label = 'Prediction')\n",
    "    else:\n",
    "        plt.plot(np.arange(input_length), np.exp(Y_past[idx_obs, :, 0]) - 1, color = 'black')\n",
    "        plt.plot(np.arange(input_length, input_length+ouput_length), np.exp(Y_true[idx_obs,: ]) - 1, color = 'black', label = 'True Usage', linestyle = '--')\n",
    "        plt.plot(np.arange(input_length, input_length+ouput_length), np.exp(Y_pred[idx_obs, :, 1]) - 1, color = 'red', label = 'Prediction')\n",
    "        plt.fill_between(np.arange(input_length, input_length+ouput_length), np.exp(Y_pred[idx_obs, :, 0]) - 1, np.exp(Y_pred[idx_obs, :, 2]) - 1, color='b', alpha=.1)\n",
    "    plt.legend()"
   ]
  },
  {
   "cell_type": "code",
   "execution_count": null,
   "id": "sapphire-original",
   "metadata": {},
   "outputs": [],
   "source": [
    "plot_predictions(X, Y, Y_hat, 960, False)"
   ]
  },
  {
   "cell_type": "code",
   "execution_count": null,
   "id": "intimate-admission",
   "metadata": {},
   "outputs": [],
   "source": [
    "def compute_mape(Y_true, Y_pred, return_list = True, exponent = True):\n",
    "    if exponent:\n",
    "        Y_true = np.exp(Y_true)\n",
    "        Y_pred = np.exp(Y_pred[:, :, 1]) - 1\n",
    "    else:\n",
    "        Y_true = Y_true + 1\n",
    "        Y_pred = Y_pred[:, :, 1]\n",
    "        \n",
    "    Y_pred = Y_pred.clip(min = 0)\n",
    "    \n",
    "    abs_error = abs(Y_true - Y_pred)\n",
    "    \n",
    "    APE = abs_error/Y_true\n",
    "    MAPE_customer = np.mean(APE, axis = 1)\n",
    "    print('Overall model MAPE: {:.2%}'.format(np.mean(MAPE_customer)))\n",
    "    print('Overall model MAPE (median): {:.2%}'.format(np.median(MAPE_customer)))\n",
    "    return MAPE_customer\n",
    "    "
   ]
  },
  {
   "cell_type": "code",
   "execution_count": null,
   "id": "thrown-health",
   "metadata": {},
   "outputs": [],
   "source": [
    "def plot_ranked(Y_true, Y_pred, X, mape, best = True, top = 5, exponent = True):\n",
    "    sorted_mape = np.argsort(mape)\n",
    "    if best:\n",
    "        idx = sorted_mape[:top]\n",
    "    else:\n",
    "        idx = sorted_mape[-top:]\n",
    "    for i in idx:\n",
    "  \n",
    "        plot_predictions(X, Y_true, Y_pred, i, exponent)\n",
    "        plt.title(\"{:.2%}\".format(mape[i]))\n",
    "        plt.plot()"
   ]
  },
  {
   "cell_type": "code",
   "execution_count": null,
   "id": "suspected-financing",
   "metadata": {},
   "outputs": [],
   "source": []
  },
  {
   "cell_type": "code",
   "execution_count": null,
   "id": "ordered-script",
   "metadata": {},
   "outputs": [],
   "source": [
    "mape_list = compute_mape(Y, Y_hat, exponent = False)"
   ]
  },
  {
   "cell_type": "code",
   "execution_count": null,
   "id": "egyptian-great",
   "metadata": {},
   "outputs": [],
   "source": [
    "plot_ranked(Y, Y_hat, X, mape_list, exponent = False)\n",
    "\n",
    "#plot_predictions(X, Y, Y_hat, 28)"
   ]
  },
  {
   "cell_type": "code",
   "execution_count": null,
   "id": "operating-announcement",
   "metadata": {},
   "outputs": [],
   "source": [
    "plot_ranked(Y, Y_hat, X, mape_list, exponent = False, best = False)\n",
    "\n",
    "#plot_predictions(X, Y, Y_hat, 28)"
   ]
  },
  {
   "cell_type": "code",
   "execution_count": null,
   "id": "unlikely-ideal",
   "metadata": {},
   "outputs": [],
   "source": []
  }
 ],
 "metadata": {
  "kernelspec": {
   "display_name": "Python 3",
   "language": "python",
   "name": "python3"
  },
  "language_info": {
   "codemirror_mode": {
    "name": "ipython",
    "version": 3
   },
   "file_extension": ".py",
   "mimetype": "text/x-python",
   "name": "python",
   "nbconvert_exporter": "python",
   "pygments_lexer": "ipython3",
   "version": "3.8.2"
  }
 },
 "nbformat": 4,
 "nbformat_minor": 5
}
